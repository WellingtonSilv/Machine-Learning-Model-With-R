{
 "cells": [
  {
   "cell_type": "code",
   "execution_count": null,
   "metadata": {},
   "outputs": [],
   "source": [
    "#------------------------------------------------------------------------------------------#\n",
    "#--------------------- Creating a machine learning model to predict shares of -------------#\n",
    "#--------------------- online news using OnlineNewsPopularity from UCI Machine ------------#\n",
    "#--------------------- Learning Repository  -----------------------------------------------#\n",
    "#------- https://archive.ics.uci.edu/ml/datasets/online+news+popularity -------------------#\n",
    "#------------------------------------------------------------------------------------------#"
   ]
  },
  {
   "cell_type": "code",
   "execution_count": null,
   "metadata": {},
   "outputs": [],
   "source": [
    "#---- The researchers achieved 67% accuracy using a random forest model, my challengy here--\n",
    "#---  is try to get closer of this accuracy using a linear regression"
   ]
  },
  {
   "cell_type": "code",
   "execution_count": null,
   "metadata": {},
   "outputs": [],
   "source": [
    "# Installing packages\n",
    "install.packages('caret')\n",
    "install.packages('Metrics')\n",
    "install.packages('roll')"
   ]
  },
  {
   "cell_type": "code",
   "execution_count": null,
   "metadata": {},
   "outputs": [],
   "source": [
    "# Charging librarys\n",
    "library(caret)\n",
    "library(Metrics)\n",
    "library(roll)"
   ]
  },
  {
   "cell_type": "code",
   "execution_count": null,
   "metadata": {},
   "outputs": [],
   "source": [
    "# Changing directory\n",
    "setwd('C:/Users/wellington/JUPYTER NOTEBOOK/R') #put directory where OnlineNewsPopularity are storaged\n",
    "\n",
    "# Importing dataset from directory\n",
    "pop2 <- read.csv2(\"OnlineNewsPopularity.csv\", sep = \",\", dec =\".\")\n",
    "head(pop2)"
   ]
  },
  {
   "cell_type": "code",
   "execution_count": null,
   "metadata": {},
   "outputs": [],
   "source": [
    "# Removing url column\n",
    "pop <- pop2[,2:61]\n",
    "head(pop)"
   ]
  },
  {
   "cell_type": "code",
   "execution_count": null,
   "metadata": {},
   "outputs": [],
   "source": [
    "# Analysing dataset\n",
    "str(pop) # Analysing structure"
   ]
  },
  {
   "cell_type": "code",
   "execution_count": null,
   "metadata": {},
   "outputs": [],
   "source": [
    "dim(pop) # Verifying dimentions"
   ]
  },
  {
   "cell_type": "code",
   "execution_count": null,
   "metadata": {},
   "outputs": [],
   "source": [
    "correla <- cor(pop) # Verifying correlations between target(shares) and variables\n",
    "image(correla)"
   ]
  },
  {
   "cell_type": "code",
   "execution_count": null,
   "metadata": {},
   "outputs": [],
   "source": [
    "plot(pop$shares) # Analysing the target"
   ]
  },
  {
   "cell_type": "code",
   "execution_count": null,
   "metadata": {},
   "outputs": [],
   "source": [
    "summary(pop$shares) # Analysing the target"
   ]
  },
  {
   "cell_type": "code",
   "execution_count": null,
   "metadata": {},
   "outputs": [],
   "source": [
    "#---------- Creating model1 using linear regression ----------------#\n",
    "\n",
    "# Dividing dataset into train and test\n",
    "\n",
    "set.seed(42) # Set a seed to preserv our model\n",
    "inTrain <- createDataPartition(y = pop$shares, p = 0.7, list = FALSE) # Dividing between 70% train and 30% test\n",
    "\n",
    "train <- pop[inTrain,] # Storaging train data\n",
    "test <- pop[-inTrain,] # Storaging test data"
   ]
  },
  {
   "cell_type": "code",
   "execution_count": null,
   "metadata": {},
   "outputs": [],
   "source": [
    "# Creating the model1\n",
    "model1 <- lm(shares ~.,train)\n",
    "\n",
    "suma1 <- summary(model1)\n",
    "r_sq1 <- suma1$r.squared\n",
    "suma1\n",
    "r_sq1 #printing r_squared"
   ]
  },
  {
   "cell_type": "code",
   "execution_count": null,
   "metadata": {},
   "outputs": [],
   "source": [
    "# Preciting on train dataset\n",
    "pred1 <- predict(model1, train)\n",
    "\n",
    "# Calculating mae to evaluate the model stability\n",
    "mae_train1 <- mae(train$shares,pred1)\n",
    "cat('mae ratio train',round(mae_train1/mean(train$shares)*100, 2),'')\n",
    "\n",
    "# Preciting on test dataset\n",
    "pred_test1 <- predict(model1, test)\n",
    "\n",
    "# Calculating mae to evaluate the model stability\n",
    "mae_test1 <- mae(test$shares,pred_test1)\n",
    "ratio_mae1 <- round(mae_test1/mean(test$shares)*100, 2)\n",
    "cat('mae ratio test',ratio_mae1,'')"
   ]
  },
  {
   "cell_type": "code",
   "execution_count": null,
   "metadata": {},
   "outputs": [],
   "source": [
    "# Calculating accuracy\n",
    "summary(pop$shares)"
   ]
  },
  {
   "cell_type": "code",
   "execution_count": null,
   "metadata": {},
   "outputs": [],
   "source": [
    "pred_test1_class <- as.factor(ifelse(pred_test1 > 1400, 1, 0))\n",
    "\n",
    "shares_class1 <- as.factor(ifelse(test$shares > 1400, 1, 0))\n",
    "\n",
    "accu1 <- confusionMatrix(pred_test1_class, shares_class1)\n",
    "accu1$overall[1] #printing accuracy"
   ]
  },
  {
   "cell_type": "code",
   "execution_count": null,
   "metadata": {},
   "outputs": [],
   "source": [
    "# Treating the target replacing outlayers trying to improve results\n",
    "pop$shares <- ifelse(pop$shares>summary(pop$shares)[5],2900,pop$shares)\n",
    "pop$shares <- ifelse(pop$shares<summary(pop$shares)[2],50,pop$shares)\n",
    "pop$shares <- ifelse(pop$shares>=50\n",
    "                      & pop$shares<=summary(pop$shares)[5]\n",
    "                      ,pop$shares,pop$shares)\n",
    "\n",
    "plot(pop$shares) # Seeing the new target"
   ]
  },
  {
   "cell_type": "code",
   "execution_count": null,
   "metadata": {},
   "outputs": [],
   "source": [
    "# Removing correlations between variables\n",
    "target <- pop$shares\n",
    "pop$shares <- NULL\n",
    "\n",
    "correlationMatrix <- cor(pop) \n",
    "\n",
    "correlationMatrix[is.na(correlationMatrix)] <- 0\n",
    "\n",
    "highlyCorrelated <- findCorrelation(correlationMatrix, cutoff = 0.7)\n",
    "\n",
    "print(highlyCorrelated)\n",
    "\n",
    "pop <- pop[,-highlyCorrelated]\n",
    "\n",
    "length(names(pop))\n",
    "\n",
    "pop$shares <- target"
   ]
  },
  {
   "cell_type": "code",
   "execution_count": null,
   "metadata": {},
   "outputs": [],
   "source": [
    "#---------- Creating model2 using linear regression ----------------#\n",
    "\n",
    "# Dividing dataset into train and test\n",
    "\n",
    "set.seed(42) # Set a seed to preserv our model\n",
    "inTrain <- createDataPartition(y = pop$shares, p = 0.7, list = FALSE) # Dividing between 70% train and 30% test\n",
    "\n",
    "train <- pop[inTrain,] # Storaging train data\n",
    "test <- pop[-inTrain,] # Storaging test data\n",
    "\n",
    "# Creating the model1\n",
    "model2 <- lm(shares ~.,train)\n",
    "\n",
    "suma2 <- summary(model2)\n",
    "r_sq2 <- suma2$r.squared\n",
    "suma2 #printing a summary of our model\n",
    "r_sq2 #printing r_squared"
   ]
  },
  {
   "cell_type": "code",
   "execution_count": null,
   "metadata": {},
   "outputs": [],
   "source": [
    "# Here a great improvement of r_squared was observed from 0.021 to 0.125"
   ]
  },
  {
   "cell_type": "code",
   "execution_count": null,
   "metadata": {},
   "outputs": [],
   "source": [
    "# Preciting on train dataset\n",
    "pred2 <- predict(model2, train)\n",
    "\n",
    "# Calculating mae to evaluate the model stability\n",
    "mae_train2 <- mae(train$shares,pred2)\n",
    "cat('ratio mae train:',round(mae_train2/mean(train$shares)*100, 2),'')\n",
    "\n",
    "# Preciting on test dataset\n",
    "pred_test2 <- predict(model2, test)\n",
    "\n",
    "# Calculating mae to evaluate the model stability\n",
    "mae_test2 <- mae(test$shares,pred_test2)\n",
    "ratio_mae2 <- round(mae_test2/mean(test$shares)*100, 2)\n",
    "cat('ratio mae test:',ratio_mae2,'')\n"
   ]
  },
  {
   "cell_type": "code",
   "execution_count": null,
   "metadata": {},
   "outputs": [],
   "source": [
    "# Calculating accuracy\n",
    "summary(pop$shares)"
   ]
  },
  {
   "cell_type": "code",
   "execution_count": null,
   "metadata": {},
   "outputs": [],
   "source": [
    "pred_test2_class <- as.factor(ifelse(pred_test2 > 1400, 1, 0))\n",
    "\n",
    "shares_class2 <- as.factor(ifelse(test$shares > 1400, 1, 0))\n",
    "\n",
    "accu2 <- confusionMatrix(pred_test2_class, shares_class2)\n",
    "accu2$overall[1] #printing accuracy"
   ]
  },
  {
   "cell_type": "code",
   "execution_count": null,
   "metadata": {},
   "outputs": [],
   "source": [
    "# Was a creat accuracy and r squared improvement, mae reduction and mae stability was mantened\n",
    "# Let's try to improve this results"
   ]
  },
  {
   "cell_type": "code",
   "execution_count": null,
   "metadata": {},
   "outputs": [],
   "source": [
    "# ---- Treating variables replacing outlayers like we did in target\n",
    "\n",
    "# Here I select varialbles that are not binary 0 or 1\n",
    "pop$global_sentiment_polarity <- ifelse(pop$global_sentiment_polarity>summary(pop$global_sentiment_polarity)[5]\n",
    "                                        ,summary(pop$global_sentiment_polarity)[5],pop$global_sentiment_polarity)\n",
    "pop$global_sentiment_polarity <- ifelse(pop$global_sentiment_polarity<summary(pop$global_sentiment_polarity)[2]\n",
    "                                        ,summary(pop$global_sentiment_polarity)[2],pop$global_sentiment_polarity)\n",
    "pop$global_sentiment_polarity <- ifelse(pop$global_sentiment_polarity>=summary(pop$global_sentiment_polarity)[2] \n",
    "                                        & pop$global_sentiment_polarity<=summary(pop$global_sentiment_polarity)[5]\n",
    "                                        ,pop$global_sentiment_polarity,pop$global_sentiment_polarity)\n",
    "\n",
    "pop$global_subjectivity <- ifelse(pop$global_subjectivity>summary(pop$global_subjectivity)[5]\n",
    "                                  ,summary(pop$global_subjectivity)[5],pop$global_subjectivity)\n",
    "pop$global_subjectivity <- ifelse(pop$global_subjectivity<summary(pop$global_subjectivity)[2]\n",
    "                                  ,summary(pop$global_subjectivity)[2],pop$global_subjectivity)\n",
    "pop$global_subjectivity <- ifelse(pop$global_subjectivity>=summary(pop$global_subjectivity)[2] \n",
    "                                  & pop$global_subjectivity<=summary(pop$global_subjectivity)[5]\n",
    "                                  ,pop$global_subjectivity,pop$global_subjectivity)\n",
    "\n",
    "pop$max_negative_polarity <- ifelse(pop$max_negative_polarity>summary(pop$max_negative_polarity)[5]\n",
    "                                    ,summary(pop$max_negative_polarity)[5],pop$max_negative_polarity)\n",
    "pop$max_negative_polarity <- ifelse(pop$max_negative_polarity<summary(pop$max_negative_polarity)[2]\n",
    "                                    ,summary(pop$max_negative_polarity)[2],pop$max_negative_polarity)\n",
    "pop$max_negative_polarity <- ifelse(pop$max_negative_polarity>=summary(pop$max_negative_polarity)[2] \n",
    "                                    & pop$max_negative_polarity<=summary(pop$max_negative_polarity)[5]\n",
    "                                    ,pop$max_negative_polarity,pop$max_negative_polarity)\n",
    "\n",
    "pop$global_rate_positive_words <- ifelse(pop$global_rate_positive_words>summary(pop$global_rate_positive_words)[5]\n",
    "                                         ,summary(pop$global_rate_positive_words)[5],pop$global_rate_positive_words)\n",
    "pop$global_rate_positive_words <- ifelse(pop$global_rate_positive_words<summary(pop$global_rate_positive_words)[2]\n",
    "                                         ,summary(pop$global_rate_positive_words)[2],pop$global_rate_positive_words)\n",
    "pop$global_rate_positive_words <- ifelse(pop$global_rate_positive_words>=summary(pop$global_rate_positive_words)[2] \n",
    "                                         & pop$global_rate_positive_words<=summary(pop$global_rate_positive_words)[5]\n",
    "                                         ,pop$global_rate_positive_words,pop$global_rate_positive_words)\n",
    "\n",
    "pop$num_videos <- ifelse(pop$num_videos>summary(pop$num_videos)[5]\n",
    "                         ,summary(pop$num_videos)[5],pop$num_videos)\n",
    "pop$num_videos <- ifelse(pop$num_videos<summary(pop$num_videos)[2]\n",
    "                         ,summary(pop$num_videos)[2],pop$num_videos)\n",
    "pop$num_videos <- ifelse(pop$num_videos>=summary(pop$num_videos)[2] \n",
    "                         & pop$num_videos<=summary(pop$num_videos)[5]\n",
    "                         ,pop$num_videos,pop$num_videos)\n",
    "\n",
    "pop$num_imgs <- ifelse(pop$num_imgs>summary(pop$num_imgs)[5]\n",
    "                       ,summary(pop$num_imgs)[5],pop$num_imgs)\n",
    "pop$num_imgs <- ifelse(pop$num_imgs<summary(pop$num_imgs)[2]\n",
    "                       ,summary(pop$num_imgs)[2],pop$num_imgs)\n",
    "pop$num_imgs <- ifelse(pop$num_imgs>=summary(pop$num_imgs)[2] \n",
    "                       & pop$num_imgs<=summary(pop$num_imgs)[5]\n",
    "                       ,pop$num_imgs,pop$num_imgs)\n",
    "\n",
    "pop$kw_avg_min <- ifelse(pop$kw_avg_min>summary(pop$kw_avg_min)[5]\n",
    "                         ,summary(pop$kw_avg_min)[5],pop$kw_avg_min)\n",
    "pop$kw_avg_min <- ifelse(pop$kw_avg_min<summary(pop$kw_avg_min)[2]\n",
    "                         ,summary(pop$kw_avg_min)[2],pop$kw_avg_min)\n",
    "pop$kw_avg_min <- ifelse(pop$kw_avg_min>=summary(pop$kw_avg_min)[2] \n",
    "                         & pop$kw_avg_min<=summary(pop$kw_avg_min)[5]\n",
    "                         ,pop$kw_avg_min,pop$kw_avg_min)\n",
    "\n",
    "pop$kw_max_avg <- ifelse(pop$kw_max_avg>summary(pop$kw_max_avg)[5]\n",
    "                         ,summary(pop$kw_max_avg)[5],pop$kw_max_avg)\n",
    "pop$kw_max_avg <- ifelse(pop$kw_max_avg<summary(pop$kw_max_avg)[2]\n",
    "                         ,summary(pop$kw_max_avg)[2],pop$kw_max_avg)\n",
    "pop$kw_max_avg <- ifelse(pop$kw_max_avg>=summary(pop$kw_max_avg)[2] \n",
    "                         & pop$kw_max_avg<=summary(pop$kw_max_avg)[5]\n",
    "                         ,pop$kw_max_avg,pop$kw_max_avg)\n",
    "\n",
    "pop$self_reference_min_shares <- ifelse(pop$self_reference_min_shares>summary(pop$self_reference_min_shares)[5]\n",
    "                                        ,summary(pop$self_reference_min_shares)[5],pop$self_reference_min_shares)\n",
    "pop$self_reference_min_shares <- ifelse(pop$self_reference_min_shares<summary(pop$self_reference_min_shares)[2]\n",
    "                                        ,summary(pop$self_reference_min_shares)[2],pop$self_reference_min_shares)\n",
    "pop$self_reference_min_shares <- ifelse(pop$self_reference_min_shares>=summary(pop$self_reference_min_shares)[2] \n",
    "                                        & pop$self_reference_min_shares<=summary(pop$self_reference_min_shares)[5]\n",
    "                                        ,pop$self_reference_min_shares,pop$self_reference_min_shares)\n",
    "\n",
    "pop$self_reference_max_shares <- ifelse(pop$self_reference_max_shares>summary(pop$self_reference_max_shares)[5]\n",
    "                                        ,summary(pop$self_reference_max_shares)[5],pop$self_reference_max_shares)\n",
    "pop$self_reference_max_shares <- ifelse(pop$self_reference_max_shares<summary(pop$self_reference_max_shares)[2]\n",
    "                                        ,summary(pop$self_reference_max_shares)[2],pop$self_reference_max_shares)\n",
    "pop$self_reference_max_shares <- ifelse(pop$self_reference_max_shares>=summary(pop$self_reference_max_shares)[2] \n",
    "                                        & pop$self_reference_max_shares<=summary(pop$self_reference_max_shares)[5]\n",
    "                                        ,pop$self_reference_max_shares,pop$self_reference_max_shares)\n",
    "\n",
    "pop$global_rate_positive_words <- ifelse(pop$global_rate_positive_words>summary(pop$global_rate_positive_words)[5]\n",
    "                                         ,summary(pop$global_rate_positive_words)[5],pop$global_rate_positive_words)\n",
    "pop$global_rate_positive_words <- ifelse(pop$global_rate_positive_words<summary(pop$global_rate_positive_words)[2]\n",
    "                                         ,summary(pop$global_rate_positive_words)[2],pop$global_rate_positive_words)\n",
    "pop$global_rate_positive_words <- ifelse(pop$global_rate_positive_words>=summary(pop$global_rate_positive_words)[2] \n",
    "                                         & pop$global_rate_positive_words<=summary(pop$global_rate_positive_words)[5]\n",
    "                                         ,pop$global_rate_positive_words,pop$global_rate_positive_words)\n",
    "\n",
    "pop$global_rate_negative_words <- ifelse(pop$global_rate_negative_words>summary(pop$global_rate_negative_words)[5]\n",
    "                                         ,summary(pop$global_rate_negative_words)[5],pop$global_rate_negative_words)\n",
    "pop$global_rate_negative_words <- ifelse(pop$global_rate_negative_words<summary(pop$global_rate_negative_words)[2]\n",
    "                                         ,summary(pop$global_rate_negative_words)[2],pop$global_rate_negative_words)\n",
    "pop$global_rate_negative_words <- ifelse(pop$global_rate_negative_words>=summary(pop$global_rate_negative_words)[2] \n",
    "                                         & pop$global_rate_negative_words<=summary(pop$global_rate_negative_words)[5]\n",
    "                                         ,pop$global_rate_negative_words,pop$global_rate_negative_words)\n",
    "\n",
    "pop$min_positive_polarity <- ifelse(pop$min_positive_polarity>summary(pop$min_positive_polarity)[5]\n",
    "                                    ,summary(pop$min_positive_polarity)[5],pop$min_positive_polarity)\n",
    "pop$min_positive_polarity <- ifelse(pop$min_positive_polarity<summary(pop$min_positive_polarity)[2]\n",
    "                                    ,summary(pop$min_positive_polarity)[2],pop$min_positive_polarity)\n",
    "pop$min_positive_polarity <- ifelse(pop$min_positive_polarity>=summary(pop$min_positive_polarity)[2] \n",
    "                                    & pop$min_positive_polarity<=summary(pop$min_positive_polarity)[5]\n",
    "                                    ,pop$min_positive_polarity,pop$min_positive_polarity)"
   ]
  },
  {
   "cell_type": "code",
   "execution_count": null,
   "metadata": {},
   "outputs": [],
   "source": [
    "#---------- Creating model3 using linear regression ----------------#\n",
    "\n",
    "# Dividing dataset into train and test\n",
    "\n",
    "set.seed(42) # Set a seed to preserv our model\n",
    "inTrain <- createDataPartition(y = pop$shares, p = 0.7, list = FALSE) # Dividing between 70% train and 30% test\n",
    "\n",
    "train <- pop[inTrain,] # Storaging train data\n",
    "test <- pop[-inTrain,] # Storaging test data\n",
    "\n",
    "# Creating the model1\n",
    "model3 <- lm(shares ~.,train)\n",
    "\n",
    "suma3 <- summary(model3)\n",
    "r_sq3 <- suma3$r.squared\n",
    "suma3 #printing a summary of our model\n",
    "r_sq3 #printing r_squared"
   ]
  },
  {
   "cell_type": "code",
   "execution_count": null,
   "metadata": {},
   "outputs": [],
   "source": [
    "# Here a great improvement of r_squared was observed from 0.12 to 0.16\n",
    "# Let's verify mae stability"
   ]
  },
  {
   "cell_type": "code",
   "execution_count": null,
   "metadata": {},
   "outputs": [],
   "source": [
    "# Preciting on train dataset\n",
    "pred3 <- predict(model3, train)\n",
    "\n",
    "# Calculating mae to evaluate the model stability\n",
    "mae_train3 <- mae(train$shares,pred3)\n",
    "cat('mae ratio train:',round(mae_train3/mean(train$shares)*100, 2),'')\n",
    "\n",
    "# Preciting on test dataset\n",
    "pred_test3 <- predict(model3, test)\n",
    "\n",
    "# Calculating mae to evaluate the model stability\n",
    "mae_test3 <- mae(test$shares,pred_test3)\n",
    "ratio_mae3 <- round(mae_test3/mean(test$shares)*100, 2)\n",
    "cat('mae ratio test:',ratio_mae3,'')"
   ]
  },
  {
   "cell_type": "code",
   "execution_count": null,
   "metadata": {},
   "outputs": [],
   "source": [
    "# ------Mae continue stable--------"
   ]
  },
  {
   "cell_type": "code",
   "execution_count": null,
   "metadata": {},
   "outputs": [],
   "source": [
    "# Calculating accuracy\n",
    "summary(pop$shares)"
   ]
  },
  {
   "cell_type": "code",
   "execution_count": null,
   "metadata": {},
   "outputs": [],
   "source": [
    "pred_test3_class <- as.factor(ifelse(pred_test3 > 1400, 1, 0))\n",
    "\n",
    "shares_class3 <- as.factor(ifelse(test$shares > 1400, 1, 0))\n",
    "\n",
    "accu3 <- confusionMatrix(pred_test3_class, shares_class3)\n",
    "accu3$overall[1] #printing accuracy"
   ]
  },
  {
   "cell_type": "code",
   "execution_count": null,
   "metadata": {},
   "outputs": [],
   "source": [
    "# Here we observ a improvement of our accuracy from 0.62 to 0.64\n",
    "# Let's try to improve this creating new variables"
   ]
  },
  {
   "cell_type": "code",
   "execution_count": null,
   "metadata": {},
   "outputs": [],
   "source": [
    "# --- Creatig new variables-------\n",
    "pop$var1 <- pop$max_positive_polarity/pop$global_subjectivity\n",
    "pop$var2 <- pop$timedelta/pop$global_sentiment_polarity\n",
    "pop$var3 <- pop$timedelta/pop$global_rate_positive_words\n",
    "pop$var4 <- pop$timedelta/pop$global_rate_negative_words\n",
    "pop$var5 <- pop$num_keywords/pop$avg_negative_polarity\n",
    "pop$var6 <- pop$timedelta/pop$max_negative_polarity\n",
    "pop$var7 <- pop$n_tokens_title/pop$min_positive_polarity\n",
    "pop$var8 <- pop$timedelta/pop$title_subjectivity\n",
    "pop$var9 <- pop$timedelta/pop$title_sentiment_polarity\n",
    "pop$var10 <- pop$title_subjectivity/pop$global_subjectivity\n",
    "pop$var11 <- pop$num_self_hrefs/pop$global_rate_negative_words\n",
    "pop$var12 <- pop$global_rate_positive_words/pop$global_sentiment_polarity\n",
    "pop$var13 <- pop$min_positive_polarity/pop$num_hrefs\n",
    "pop$var14 <- pop$average_token_length/pop$self_reference_max_shares\n",
    "pop$var15 <- pop$var11/pop$n_tokens_title\n",
    "pop$var16 <- pop$title_subjectivity/pop$self_reference_min_shares\n",
    "pop$var17 <- roll_var(pop$global_rate_positive_words,30)\n",
    "pop$var18 <- roll_sd(pop$avg_negative_polarity,30)/roll_sd(pop$title_subjectivity,30)\n",
    "pop$var19 <- roll_sd(pop$self_reference_min_shares,30)/roll_sd(pop$title_subjectivity,30)\n",
    "pop$var20 <- roll_sd(pop$title_subjectivity,20)\n",
    "pop$var21 <- roll_sd(pop$max_negative_polarity,10)*roll_mean(pop$max_negative_polarity,10)"
   ]
  },
  {
   "cell_type": "code",
   "execution_count": null,
   "metadata": {},
   "outputs": [],
   "source": [
    "# Replacing NA's NaN and Inf \n",
    "# values by 0 using travel function: \n",
    "# https://github.com/wellingtsilvdev/codes-with-real-utilities/commit/2ac247fd0899d264148022b7ee1ecffcddaebaaa"
   ]
  },
  {
   "cell_type": "code",
   "execution_count": null,
   "metadata": {},
   "outputs": [],
   "source": [
    "# Changing directory to import our function\n",
    "setwd(\"C:/Users/wellington/JUPYTER NOTEBOOK/R\") #put here the directory here the travel function are storaged\n",
    "source('travel.R')\n",
    "\n",
    "pop <- travel(pop,element = 0,last.na = T,first_row.na = T)"
   ]
  },
  {
   "cell_type": "code",
   "execution_count": null,
   "metadata": {},
   "outputs": [],
   "source": [
    "# Removing correlations between variables\n",
    "target <- pop$shares\n",
    "pop$shares <- NULL\n",
    "\n",
    "correlationMatrix <- cor(pop) \n",
    "\n",
    "correlationMatrix[is.na(correlationMatrix)] <- 0\n",
    "\n",
    "highlyCorrelated <- findCorrelation(correlationMatrix, cutoff = 0.7)\n",
    "\n",
    "print(highlyCorrelated)\n",
    "\n",
    "pop <- pop[,-highlyCorrelated]\n",
    "\n",
    "length(names(pop))\n",
    "\n",
    "pop$shares <- target"
   ]
  },
  {
   "cell_type": "code",
   "execution_count": null,
   "metadata": {},
   "outputs": [],
   "source": [
    "#---------- Creating model4 using linear regression ----------------#\n",
    "\n",
    "# Dividing dataset into train and test\n",
    "\n",
    "set.seed(42) # Set a seed to preserv our model\n",
    "inTrain <- createDataPartition(y = pop$shares, p = 0.7, list = FALSE) # Dividing between 70% train and 30% test\n",
    "\n",
    "train <- pop[inTrain,] # Storaging train data\n",
    "test <- pop[-inTrain,] # Storaging test data\n",
    "\n",
    "# Creating the model1\n",
    "model4 <- lm(shares ~.,train)\n",
    "\n",
    "suma4 <- summary(model4)\n",
    "r_sq4 <- suma4$r.squared\n",
    "suma4 #printing a summary of our model\n",
    "r_sq4 #printing r_squared"
   ]
  },
  {
   "cell_type": "code",
   "execution_count": null,
   "metadata": {},
   "outputs": [],
   "source": [
    "# Here the r_squared almost are not improved"
   ]
  },
  {
   "cell_type": "code",
   "execution_count": null,
   "metadata": {},
   "outputs": [],
   "source": [
    "# Preciting on train dataset\n",
    "pred4 <- predict(model4, train)\n",
    "\n",
    "# Calculating mae to evaluate the model stability\n",
    "mae_train4 <- mae(train$shares,pred4)\n",
    "cat('mae ratio train',round(mae_train4/mean(train$shares)*100, 2),'')\n",
    "\n",
    "# Preciting on test dataset\n",
    "pred_test4 <- predict(model4, test)\n",
    "\n",
    "# Calculating mae to evaluate the model stability\n",
    "mae_test4 <- mae(test$shares,pred_test4)\n",
    "ratio_mae4 <- round(mae_test4/mean(test$shares)*100, 2)\n",
    "cat('mae ratio test:',ratio_mae4,'')"
   ]
  },
  {
   "cell_type": "code",
   "execution_count": null,
   "metadata": {},
   "outputs": [],
   "source": [
    "# ------Mae continue stable--------"
   ]
  },
  {
   "cell_type": "code",
   "execution_count": null,
   "metadata": {},
   "outputs": [],
   "source": [
    "# Calculating accuracy\n",
    "summary(pop$shares)"
   ]
  },
  {
   "cell_type": "code",
   "execution_count": null,
   "metadata": {},
   "outputs": [],
   "source": [
    "pred_test4_class <- as.factor(ifelse(pred_test4 > 1400, 1, 0))\n",
    "\n",
    "shares_class4 <- as.factor(ifelse(test$shares > 1400, 1, 0))\n",
    "\n",
    "accu4 <- confusionMatrix(pred_test4_class, shares_class4)\n",
    "accu4$overall[1] #printing accuracy"
   ]
  },
  {
   "cell_type": "code",
   "execution_count": null,
   "metadata": {},
   "outputs": [],
   "source": [
    "# There was not improvement in accuracy\n",
    "# Let's see all models accuracy, r_squared and mae"
   ]
  },
  {
   "cell_type": "code",
   "execution_count": null,
   "metadata": {},
   "outputs": [],
   "source": [
    "# Model1\n",
    "cat('Model1 R_squared:',round(r_sq1,3),\"\\n\")\n",
    "cat('Model1 mae_test:',round(ratio_mae1,3),\"\\n\")\n",
    "cat('Model1 accuracy:',round(accu1$overall[1],3),\"\\n\")"
   ]
  },
  {
   "cell_type": "code",
   "execution_count": null,
   "metadata": {},
   "outputs": [],
   "source": [
    "# Model2\n",
    "cat('Model2 R_squared:',round(r_sq2,3),\"\\n\")\n",
    "cat('Model2 mae_test:',round(ratio_mae2,3),\"\\n\")\n",
    "cat('Model2 accuracy:',round(accu2$overall[1],3),\"\\n\")"
   ]
  },
  {
   "cell_type": "code",
   "execution_count": null,
   "metadata": {},
   "outputs": [],
   "source": [
    "# Model3\n",
    "cat('Model3 R_squared:',round(r_sq3,3),\"\\n\")\n",
    "cat('Model3 mae_test:',round(ratio_mae3,3),\"\\n\")\n",
    "cat('Model3 accuracy:',round(accu3$overall[1],3),\"\\n\")"
   ]
  },
  {
   "cell_type": "code",
   "execution_count": null,
   "metadata": {},
   "outputs": [],
   "source": [
    "# Model4\n",
    "cat('Model4 R_squared:',round(r_sq4,3),\"\\n\")\n",
    "cat('Model4 mae_test:',round(ratio_mae4,3),\"\\n\")\n",
    "cat('Model4 accuracy:',round(accu4$overall[1],3),\"\\n\")"
   ]
  },
  {
   "cell_type": "code",
   "execution_count": null,
   "metadata": {},
   "outputs": [],
   "source": []
  }
 ],
 "metadata": {
  "kernelspec": {
   "display_name": "R",
   "language": "R",
   "name": "ir"
  },
  "language_info": {
   "codemirror_mode": "r",
   "file_extension": ".r",
   "mimetype": "text/x-r-source",
   "name": "R",
   "pygments_lexer": "r",
   "version": "3.6.1"
  }
 },
 "nbformat": 4,
 "nbformat_minor": 2
}
