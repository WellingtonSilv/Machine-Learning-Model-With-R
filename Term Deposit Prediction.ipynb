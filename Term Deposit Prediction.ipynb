{
 "cells": [
  {
   "cell_type": "code",
   "execution_count": 1,
   "metadata": {},
   "outputs": [],
   "source": [
    "# Creating a classification model to predict if the client will subscribe (yes/no) a term deposit\n",
    "# using Bank Marketing Data Set from UCI Machine Learning Repository that can be finded: \n",
    "# http://archive.ics.uci.edu/ml/datasets/Bank+Marketing"
   ]
  },
  {
   "cell_type": "code",
   "execution_count": null,
   "metadata": {},
   "outputs": [
    {
     "name": "stderr",
     "output_type": "stream",
     "text": [
      "Installing package into ‘/srv/rlibs’\n",
      "(as ‘lib’ is unspecified)\n",
      "also installing the dependencies ‘rex’, ‘praise’, ‘covr’, ‘gapminder’, ‘testthat’\n",
      "\n",
      "Installing package into ‘/srv/rlibs’\n",
      "(as ‘lib’ is unspecified)\n",
      "Installing package into ‘/srv/rlibs’\n",
      "(as ‘lib’ is unspecified)\n",
      "also installing the dependencies ‘ini’, ‘checkmate’, ‘zoo’, ‘fontBitstreamVera’, ‘fontLiberation’, ‘clisymbols’, ‘desc’, ‘gh’, ‘git2r’, ‘rprojroot’, ‘e1071’, ‘Formula’, ‘latticeExtra’, ‘acepack’, ‘data.table’, ‘htmlTable’, ‘mvtnorm’, ‘TH.data’, ‘sandwich’, ‘diffobj’, ‘fontquiver’, ‘freetypeharfbuzz’, ‘gdtools’, ‘usethis’, ‘SparseM’, ‘MatrixModels’, ‘classInt’, ‘units’, ‘ggplot2movies’, ‘hexbin’, ‘Hmisc’, ‘mapproj’, ‘maps’, ‘maptools’, ‘multcomp’, ‘vdiffr’, ‘quantreg’, ‘rgeos’, ‘sf’, ‘svglite’\n",
      "\n",
      "Warning message in install.packages(\"ggplot2\", dependencies = T):\n",
      "“installation of package ‘units’ had non-zero exit status”Warning message in install.packages(\"ggplot2\", dependencies = T):\n",
      "“installation of package ‘rgeos’ had non-zero exit status”Warning message in install.packages(\"ggplot2\", dependencies = T):\n",
      "“installation of package ‘sf’ had non-zero exit status”Installing package into ‘/srv/rlibs’\n",
      "(as ‘lib’ is unspecified)\n",
      "also installing the dependencies ‘bitops’, ‘numDeriv’, ‘SQUAREM’, ‘gdata’, ‘caTools’, ‘profileModel’, ‘minqa’, ‘nloptr’, ‘RcppEigen’, ‘plotrix’, ‘lava’, ‘miniUI’, ‘labelled’, ‘gplots’, ‘libcoin’, ‘matrixStats’, ‘iterators’, ‘gower’, ‘RcppRoll’, ‘timeDate’, ‘brglm’, ‘gtools’, ‘lme4’, ‘qvcalc’, ‘plotmo’, ‘TeachingDemos’, ‘prodlim’, ‘combinat’, ‘questionr’, ‘ROCR’, ‘modeltools’, ‘strucchange’, ‘coin’, ‘ISwR’, ‘corpcor’, ‘foreach’, ‘ModelMetrics’, ‘recipes’, ‘BradleyTerry2’, ‘earth’, ‘fastICA’, ‘gam’, ‘ipred’, ‘kernlab’, ‘klaR’, ‘ellipse’, ‘mda’, ‘mlbench’, ‘MLmetrics’, ‘party’, ‘pls’, ‘pROC’, ‘proxy’, ‘randomForest’, ‘RANN’, ‘spls’, ‘subselect’, ‘pamr’, ‘superpc’, ‘Cubist’\n",
      "\n"
     ]
    }
   ],
   "source": [
    "#----------------------------------------------------------------------------------------#\n",
    "#------------------------ Installing and charging Librarys ------------------------------#\n",
    "#----------------------------------------------------------------------------------------#\n",
    "\n",
    "# Uncommit if have not this packages installed yet\n",
    "\n",
    "#install.packages('tidyr',dependencies = T)\n",
    "#install.packages('purrr',dependencies = T)\n",
    "#install.packages('ggplot2',dependencies = T)\n",
    "#install.packages('caret',dependencies = T)\n",
    "#install.packages('rpart',dependencies = T)\n",
    "#install.packages('rpart.plot',dependencies = T)\n",
    "#install.packages('randomForest',dependencies = T)\n",
    "#install.packages('dplyr',dependencies = T)\n",
    "#install.packages('sampling',dependencies = T)\n",
    "#install.packages('devtools',dependencies = T)\n",
    "#install.packages('ggpubr',dependencies = T)\n",
    "#install.packages('tidyverse',dependencies = T)\n",
    "#install.packages('pROC',dependencies = T)"
   ]
  },
  {
   "cell_type": "code",
   "execution_count": 3,
   "metadata": {},
   "outputs": [
    {
     "name": "stderr",
     "output_type": "stream",
     "text": [
      "Registered S3 methods overwritten by 'ggplot2':\n",
      "  method         from \n",
      "  [.quosures     rlang\n",
      "  c.quosures     rlang\n",
      "  print.quosures rlang\n"
     ]
    },
    {
     "ename": "ERROR",
     "evalue": "Error in library(caret): there is no package called ‘caret’\n",
     "output_type": "error",
     "traceback": [
      "Error in library(caret): there is no package called ‘caret’\nTraceback:\n",
      "1. library(caret)"
     ]
    }
   ],
   "source": [
    "library(tidyr) # visualization\n",
    "library(purrr) # visualization\n",
    "library(ggplot2) # visualization\n",
    "library(caret) # visualization of results\n",
    "library(rpart) # decision tree model\n",
    "library(rpart.plot) # visualization\n",
    "library(randomForest) # Random Forest model\n",
    "library(dplyr) # atribute selection\n",
    "library(sampling) # stratfied samples\n",
    "library(devtools) # import functions from github\n",
    "library(ggpubr) # visualization\n",
    "library(tidyverse) # manipulation\n",
    "library(pROC) # ROC curve and AUC"
   ]
  },
  {
   "cell_type": "code",
   "execution_count": null,
   "metadata": {},
   "outputs": [],
   "source": [
    "#----------------------------------------------------------------------------------------#\n",
    "#--- Importing dataset, dooing simples analyses and creating the first model ------------#\n",
    "#----------------------------------------------------------------------------------------#\n",
    "\n",
    "# Importing the dataset\n",
    "setwd(\"D:/MY OWN R CODES/MODELS\") #change to your directory\n",
    "bank <- read.csv('bank-full.csv',header = T,sep = ';')\n",
    "\n",
    "head(bank) # seeing the first 5 rows"
   ]
  },
  {
   "cell_type": "code",
   "execution_count": null,
   "metadata": {},
   "outputs": [],
   "source": [
    "# removing duration atribute because: \n",
    "# this attribute highly affects the output target (e.g., if duration=0 then y='no'). \n",
    "# Yet, the duration is not known before a call is performed. Also, after the end of the\n",
    "# call y is obviously known. Thus, this input should only be included for benchmark purposes\n",
    "# and should be discarded if the intention is to have a realistic predictive model.\n",
    "\n",
    "bank <- select(bank,-c('duration')) # removing 'duration' atribute"
   ]
  },
  {
   "cell_type": "code",
   "execution_count": null,
   "metadata": {},
   "outputs": [],
   "source": [
    "print(head(bank)) # seeing the first 5 rows\n",
    "\n",
    "print(str(bank)) # data structure\n",
    "\n",
    "print(summary(bank)) # verifying missing values"
   ]
  },
  {
   "cell_type": "code",
   "execution_count": null,
   "metadata": {},
   "outputs": [],
   "source": [
    "#------------ Calculating class proportion and ploting into graphic bars\n",
    "\n",
    "countt <- data.frame(0) # creating a dataframe to storage classes frequency\n",
    "names(countt) <- 'proportion' #naming dataframe column\n",
    "\n",
    "# Creaing a loop to count yes and no categories\n",
    "y = 0\n",
    "n = 0\n",
    "for(i in bank$y){\n",
    "  if(i==\"yes\"){\n",
    "    y=y+1\n",
    "  }\n",
    "  if(i==\"no\"){\n",
    "    n=n+1\n",
    "  }\n",
    "}\n",
    "countt[1,] <- n # storaging no class\n",
    "countt[2,] <- y # storaging yes class\n",
    "\n",
    "# converting indexes in a new column\n",
    "row.names(countt) <- c('no','yes')\n",
    "countt['classes'] <- row.names(countt)\n",
    "\n",
    "row.names(countt) <- NULL # removing indexes\n",
    "\n",
    "# Ploting a bar graphic with class proportion\n",
    "ggplot(countt, aes(x = classes, y = proportion)) +\n",
    "  geom_bar(fill = c('blue','red'), stat = \"identity\") +\n",
    "  geom_text(aes(label=proportion), vjust = -0.3) +\n",
    "  ggtitle('Class proportion')+\n",
    "  theme_pubclean()"
   ]
  },
  {
   "cell_type": "code",
   "execution_count": null,
   "metadata": {},
   "outputs": [],
   "source": [
    "#---------------------------------------------------------------------------------------------------#\n",
    "#--------------------- Creating the first model using Decision Tree Classification -----------------#\n",
    "#---------------------------------------------------------------------------------------------------#\n",
    "\n",
    "# We have here a ambalance class problem, to solve this, let's use Undersampling \n",
    "# method to create a stratifyed sample to solve this problem with 4500 from class yes and 4500 from class \n",
    "\n",
    "# spliting our data set into train and test\n",
    "set.seed(244)\n",
    "sampl <- strata(bank,'y',c(4500,4500),'srswr')\n",
    "\n",
    "samplee <- sample(2,9000,replace = T,prob = c(0.5,0.5))\n",
    "\n",
    "sampl_train <- sampl[samplee==1,]\n",
    "sampl_test <- sampl[samplee==2,]\n",
    "\n",
    "training <- bank[sampl_train$ID_unit,]\n",
    "testing <- bank[sampl_test$ID_unit,]\n",
    "\n",
    "print(summary(training$y))\n",
    "print(summary(testing$y))"
   ]
  },
  {
   "cell_type": "code",
   "execution_count": null,
   "metadata": {},
   "outputs": [],
   "source": [
    "# creating the model1\n",
    "tree1 <- rpart(y ~.,training,method = 'class')\n",
    "\n",
    "# ploting the tree\n",
    "rpart.plot(tree1,box.palette = 'RdBu'\n",
    "           ,shadow.col = 'gray'\n",
    "           ,nn=TRUE,main='Decision Tree - Model1')"
   ]
  },
  {
   "cell_type": "code",
   "execution_count": null,
   "metadata": {},
   "outputs": [],
   "source": [
    "#-----------realizing prediction on training database\n",
    "pred <- predict(tree1,training)\n",
    "pred <- as.data.frame(pred)\n",
    "\n",
    "# converting percentagens predicted into the classes\n",
    "training$pred <- ifelse(pred$yes>pred$no,'yes','no')\n",
    "training$pred <- as.factor(training$pred)\n",
    "\n",
    "# confusionmatrix and results\n",
    "confusion <- confusionMatrix(training$y,training$pred)\n",
    "print('Confusion matrix')\n",
    "print(confusion)\n",
    "\n",
    "accuracy <- confusion$overall[1]\n",
    "paste('accuracy: ',accuracy)"
   ]
  },
  {
   "cell_type": "code",
   "execution_count": null,
   "metadata": {},
   "outputs": [],
   "source": [
    "#------------ realizing prediction on testing database\n",
    "pred <- predict(tree1,testing)\n",
    "pred <- as.data.frame(pred)\n",
    "\n",
    "# converting percentagens predicted into the classes\n",
    "testing$pred <- ifelse(pred$yes>pred$no,'yes','no')\n",
    "testing$pred <- as.factor(testing$pred)"
   ]
  },
  {
   "cell_type": "code",
   "execution_count": null,
   "metadata": {},
   "outputs": [],
   "source": [
    "# Importing draw_confusion_matrix.R function to plot confusion matrix results finded in:\n",
    "# https://github.com/wellingtsilvdev/codes-with-real-utilities/commit/1e7cc00ce21b2edd29922de868189bf9779a5b57\n",
    "\n",
    "source_url('https://github.com/wellingtsilvdev/codes-with-real-utilities/blob/master/draw_confusion_matrix.R?raw=TRUE') # calling travel function"
   ]
  },
  {
   "cell_type": "code",
   "execution_count": null,
   "metadata": {},
   "outputs": [],
   "source": [
    "# confusionmatrix and results\n",
    "confusion1 <- confusionMatrix(testing$y,testing$pred)\n",
    "accuracy_tree1 <- confusion1$overall[1]\n",
    "draw_confusion_matrix(confusion1)"
   ]
  },
  {
   "cell_type": "code",
   "execution_count": null,
   "metadata": {},
   "outputs": [],
   "source": [
    "#----------------------------------------------------------------------------------------#\n",
    "#------------------------------------ Visualization -------------------------------------#\n",
    "#----------------------------------------------------------------------------------------#\n",
    "\n",
    "#----------- Ploting a the relation between age and all numerical atributes\n",
    "bank %>%\n",
    "  keep(is.numeric) %>%  # selecting numeric columns\n",
    "  gather(-age, key = \"var\", value = \"value\") %>% # creating a dictionare with our variables and their values and drooping age atribute\n",
    "  ggplot(aes(x = value, y = age, color = age)) +\n",
    "  geom_point() +\n",
    "  geom_smooth(method = \"lm\",col ='red', se = FALSE)+\n",
    "  ggtitle('Relation between age and all numerical atributes')+\n",
    "  facet_wrap(~ var, scales = \"free\") +\n",
    "  theme_bw()"
   ]
  },
  {
   "cell_type": "code",
   "execution_count": null,
   "metadata": {},
   "outputs": [],
   "source": [
    "#------------ Ploting Categorical Atributes Frequency\n",
    "bank %>%\n",
    "  keep(is.factor) %>% # selecting categorical columns from bank dataset\n",
    "  gather() %>% # creating a dictionare with our atributes and their categories\n",
    "  ggplot(aes(value,fill = value)) +\n",
    "  geom_bar()+\n",
    "  ggtitle('Categorical Atributes Frequency')+\n",
    "  facet_wrap(~ key, scales = \"free\") +\n",
    "  theme_bw()"
   ]
  },
  {
   "cell_type": "code",
   "execution_count": null,
   "metadata": {},
   "outputs": [],
   "source": [
    "#----------- Boxploting numerical variables\n",
    "bank %>%\n",
    "  keep(is.numeric) %>%\n",
    "  gather(key = \"var\", value = \"value\") %>%\n",
    "  ggplot(aes(x=var, y=value)) + \n",
    "  geom_boxplot(aes(fill=var))+\n",
    "  facet_wrap( ~ var, scales=\"free\")+\n",
    "  ggtitle('Numerical variables distribution')"
   ]
  },
  {
   "cell_type": "code",
   "execution_count": null,
   "metadata": {},
   "outputs": [],
   "source": [
    "#---------------------------------------------------------------------------------------------------#\n",
    "#-------------------------------------- Treating Variables -----------------------------------------#\n",
    "#---------------------------------------------------------------------------------------------------#\n",
    "\n",
    "bank %>% keep(is.numeric) %>% summary() # seeing a summary of numerical variables\n",
    "\n",
    "# logging our numerical variables\n",
    "for(i in 1:dim(bank)[2]){\n",
    "  if(is.numeric(bank[,i])==T){\n",
    "    bank[,i] <- log(bank[,i])\n",
    "  }\n",
    "}"
   ]
  },
  {
   "cell_type": "code",
   "execution_count": null,
   "metadata": {},
   "outputs": [],
   "source": [
    "bank %>% keep(is.numeric) %>% summary() # verifying"
   ]
  },
  {
   "cell_type": "code",
   "execution_count": null,
   "metadata": {},
   "outputs": [],
   "source": [
    "# Importing travel.R function to remove and replace missing values finded in:\n",
    "# https://github.com/wellingtsilvdev/codes-with-real-utilities/commit/2ac247fd0899d264148022b7ee1ecffcddaebaaa\n",
    "\n",
    "source_url('https://github.com/wellingtsilvdev/codes-with-real-utilities/blob/master/travel.R?raw=TRUE') # calling travel function"
   ]
  },
  {
   "cell_type": "code",
   "execution_count": null,
   "metadata": {},
   "outputs": [],
   "source": [
    "bank <- travel(bank,element = 0,last.na = T,first_row.na = T) # replacing missing values"
   ]
  },
  {
   "cell_type": "code",
   "execution_count": null,
   "metadata": {},
   "outputs": [],
   "source": [
    "# Treating pdays:  number of days that passed by after the client was last contacted from a previous campaign\n",
    "# -1 means that this client was never contacted before\n",
    "\n",
    "summary(bank$pdays)\n",
    "\n",
    "bank$pasdays <- ifelse(bank$pdays== 0,'f_contact',NA) # transforming pdays into categorical\n",
    "bank$pasdays <- ifelse(bank$pdays!= 0 & bank$pdays <=2.433,'cont2',bank$pasdays)\n",
    "bank$pasdays <- ifelse(bank$pdays!= 0 & bank$pdays >5.22,'cont3',bank$pasdays)\n",
    "bank$pasdays <- as.factor(bank$pasdays)"
   ]
  },
  {
   "cell_type": "code",
   "execution_count": null,
   "metadata": {},
   "outputs": [],
   "source": [
    "# Treating campaign: number of contacts performed during this campaign and for this client (numeric, includes last contact)\n",
    "summary(bank$campaign)\n",
    "\n",
    "bank$campaign <- ifelse(bank$campaign>1.0986,1.0986,bank$campaign) # removing outlayers"
   ]
  },
  {
   "cell_type": "code",
   "execution_count": null,
   "metadata": {},
   "outputs": [],
   "source": [
    "# Treating age\n",
    "summary(bank$age)\n",
    "\n",
    "bank$age_cat <-  ifelse(bank$age>=3.871,'old',NA) # converting to categorical\n",
    "bank$age_cat <-  ifelse(bank$age<=3.497,'young',bank$age_cat)\n",
    "bank$age_cat <-  ifelse(bank$age>3.497 & bank$age<3.871,'mature',bank$age_cat)\n",
    "bank$age_cat <- as.factor(bank$age_cat)"
   ]
  },
  {
   "cell_type": "code",
   "execution_count": null,
   "metadata": {},
   "outputs": [],
   "source": [
    "# Treating previous: previous: number of contacts performed before this campaign and for this client (numeric)\n",
    "summary(bank$previous)\n",
    "\n",
    "bank$cont_before <- ifelse(bank$previous==0,'no','yes')\n",
    "bank$cont_before <- as.factor(bank$cont_before)\n",
    "\n",
    "bank <- travel(bank,element = 0,last.na = T,first_row.na = T) # replacing missing values"
   ]
  },
  {
   "cell_type": "code",
   "execution_count": null,
   "metadata": {},
   "outputs": [],
   "source": [
    "#---------------------------------------------------------------------------------------------------#\n",
    "#--------------------- Creating the second model using Decision Tree Classification -----------------#\n",
    "#---------------------------------------------------------------------------------------------------#\n",
    "\n",
    "# We have here a ambalance class problem, to solve this, let's use Undersampling \n",
    "# method to create a stratifyed sample to solve this problem with 4500 from class yes and 4500 from class \n",
    "\n",
    "# spliting our data set into train and test\n",
    "set.seed(244)\n",
    "sampl <- strata(bank,'y',c(4500,4500),'srswr')\n",
    "  \n",
    "samplee <- sample(2,9000,replace = T,prob = c(0.5,0.5))\n",
    "  \n",
    "sampl_train <- sampl[samplee==1,]\n",
    "sampl_test <- sampl[samplee==2,]\n",
    "  \n",
    "training <- bank[sampl_train$ID_unit,]\n",
    "testing <- bank[sampl_test$ID_unit,]\n",
    "  \n",
    "print(summary(training$y))\n",
    "print(summary(testing$y))"
   ]
  },
  {
   "cell_type": "code",
   "execution_count": null,
   "metadata": {},
   "outputs": [],
   "source": [
    "# creating the model\n",
    "tree2 <- rpart(y ~.,training,method = 'class')\n",
    "  \n",
    "# ploting the tree\n",
    "rpart.plot(tree2,box.palette = 'RdBu'\n",
    "            ,shadow.col = 'gray'\n",
    "            ,nn=TRUE,main='Decision Tree - Model1')"
   ]
  },
  {
   "cell_type": "code",
   "execution_count": null,
   "metadata": {},
   "outputs": [],
   "source": [
    "#-----------realizing prediction on training database\n",
    "pred <- predict(tree2,training)\n",
    "pred <- as.data.frame(pred)\n",
    "  \n",
    "# converting percentagens predicted into the classes\n",
    "training$pred <- ifelse(pred$yes>pred$no,'yes','no')\n",
    "training$pred <- as.factor(training$pred)\n",
    "  \n",
    "# confusionmatrix and results\n",
    "confusion <- confusionMatrix(training$y,training$pred)\n",
    "print('Confusion Matrix:')\n",
    "print(confusion)\n",
    "  \n",
    "accuracy <- confusion$overall[1]\n",
    "paste('accuracy: ',accuracy)"
   ]
  },
  {
   "cell_type": "code",
   "execution_count": null,
   "metadata": {},
   "outputs": [],
   "source": [
    "#------------ realizing prediction on testing database\n",
    "pred <- predict(tree2,testing)\n",
    "pred <- as.data.frame(pred)\n",
    "  \n",
    "# converting percentagens predicted into the classes\n",
    "testing$pred <- ifelse(pred$yes>pred$no,'yes','no')\n",
    "testing$pred <- as.factor(testing$pred)\n",
    "  \n",
    "# confusionmatrix and results\n",
    "confusion2 <- confusionMatrix(testing$y,testing$pred)\n",
    "accuracy_tree2 <- confusion2$overall[1] # saving accuracy\n",
    "draw_confusion_matrix(confusion2)\n",
    "\n",
    "# A GREAT improvement of our accuracy! Let's test with a random forest"
   ]
  },
  {
   "cell_type": "code",
   "execution_count": null,
   "metadata": {},
   "outputs": [],
   "source": [
    "#---------------------------------------------------------------------------------------------------#\n",
    "#---------------------- Creating the third model using a random forest -----------------------------#\n",
    "#---------------------------------------------------------------------------------------------------#\n",
    "\n",
    "# We have here a ambalance class problem, to solve this, let's use Undersampling \n",
    "# method to create a stratifyed sample to solve this problem with 4500 from class yes and 4500 from class \n",
    "\n",
    "# spliting our data set into train and test\n",
    "set.seed(244)\n",
    "sampl <- strata(bank,'y',c(4500,4500),'srswr')\n",
    "\n",
    "samplee <- sample(2,9000,replace = T,prob = c(0.5,0.5))\n",
    "\n",
    "sampl_train <- sampl[samplee==1,]\n",
    "sampl_test <- sampl[samplee==2,]\n",
    "\n",
    "training <- bank[sampl_train$ID_unit,]\n",
    "testing <- bank[sampl_test$ID_unit,]\n",
    "\n",
    "print(summary(training$y))\n",
    "print(summary(testing$y))"
   ]
  },
  {
   "cell_type": "code",
   "execution_count": null,
   "metadata": {},
   "outputs": [],
   "source": [
    "# creating the model\n",
    "set.seed(244)\n",
    "forest <- randomForest(y ~.,training,ntree=150,importance=T)\n",
    "\n",
    "# Ploting the model\n",
    "plot(forest,main='Forest')"
   ]
  },
  {
   "cell_type": "code",
   "execution_count": null,
   "metadata": {},
   "outputs": [],
   "source": [
    "# The prediction of a random forest into train dataset will be close to 100%, \n",
    "# lets analyse the test accuracy\n",
    "\n",
    "#------------ realizing prediction on testing database\n",
    "pred <- predict(forest,testing)\n",
    "pred <- as.factor(pred)\n",
    "\n",
    "# creating the confusion matrix\n",
    "confusion_forest <- confusionMatrix(testing$y,pred)\n",
    "draw_confusion_matrix(confusion_forest) # ploting results"
   ]
  },
  {
   "cell_type": "code",
   "execution_count": null,
   "metadata": {},
   "outputs": [],
   "source": [
    "#------------ realizing prediction using type 'prob' to analyse ROC curve and AUC\n",
    "pred <- predict(forest,testing,type='prob') # predicting\n",
    "\n",
    "ROC_rf <- roc(testing$y, pred[,2])\n",
    "\n",
    "ROC_rf_auc <- auc(ROC_rf)\n",
    "\n",
    "plot(ROC_rf, col = \"blue\", main = \"ROC For Random Forest\") #ploting the curve"
   ]
  },
  {
   "cell_type": "code",
   "execution_count": null,
   "metadata": {},
   "outputs": [],
   "source": [
    " # seeing AUC\n",
    "AUC <- paste(\"Area under curve of random forest: \", round(ROC_rf_auc,4)*100,\"%\")\n",
    "AUC"
   ]
  },
  {
   "cell_type": "code",
   "execution_count": null,
   "metadata": {},
   "outputs": [],
   "source": [
    "# With a good treatemant and a emsemble model we improve our accuracy from 0.69% to 79%\n",
    "# a GREAT improvment, seeing this results the random forest model was showed much more accuratly and a AUC of 86%"
   ]
  }
 ],
 "metadata": {
  "kernelspec": {
   "display_name": "R",
   "language": "R",
   "name": "ir"
  },
  "language_info": {
   "codemirror_mode": "r",
   "file_extension": ".r",
   "mimetype": "text/x-r-source",
   "name": "R",
   "pygments_lexer": "r",
   "version": "3.6.1"
  }
 },
 "nbformat": 4,
 "nbformat_minor": 2
}
